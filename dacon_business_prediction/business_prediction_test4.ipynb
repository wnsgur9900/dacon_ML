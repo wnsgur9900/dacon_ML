{
 "cells": [
  {
   "cell_type": "code",
   "execution_count": 17,
   "metadata": {},
   "outputs": [],
   "source": [
    "import pandas as pd\n",
    "import matplotlib.pyplot as plt"
   ]
  },
  {
   "cell_type": "code",
   "execution_count": 18,
   "metadata": {},
   "outputs": [],
   "source": [
    "train = pd.read_csv(\"data-files/train.csv\")\n",
    "test = pd.read_csv(\"data-files/test.csv\")\n",
    "submission = pd.read_csv(\"data-files/sample_submission.csv\")"
   ]
  },
  {
   "cell_type": "code",
   "execution_count": 19,
   "metadata": {},
   "outputs": [
    {
     "data": {
      "text/html": [
       "<div>\n",
       "<style scoped>\n",
       "    .dataframe tbody tr th:only-of-type {\n",
       "        vertical-align: middle;\n",
       "    }\n",
       "\n",
       "    .dataframe tbody tr th {\n",
       "        vertical-align: top;\n",
       "    }\n",
       "\n",
       "    .dataframe thead th {\n",
       "        text-align: right;\n",
       "    }\n",
       "</style>\n",
       "<table border=\"1\" class=\"dataframe\">\n",
       "  <thead>\n",
       "    <tr style=\"text-align: right;\">\n",
       "      <th></th>\n",
       "      <th>ID</th>\n",
       "      <th>설립연도</th>\n",
       "      <th>국가</th>\n",
       "      <th>분야</th>\n",
       "      <th>투자단계</th>\n",
       "      <th>직원 수</th>\n",
       "      <th>인수여부</th>\n",
       "      <th>상장여부</th>\n",
       "      <th>고객수(백만명)</th>\n",
       "      <th>총 투자금(억원)</th>\n",
       "      <th>연매출(억원)</th>\n",
       "      <th>SNS 팔로워 수(백만명)</th>\n",
       "      <th>기업가치(백억원)</th>\n",
       "      <th>성공확률</th>\n",
       "    </tr>\n",
       "  </thead>\n",
       "  <tbody>\n",
       "    <tr>\n",
       "      <th>0</th>\n",
       "      <td>TRAIN_0000</td>\n",
       "      <td>2009</td>\n",
       "      <td>CT005</td>\n",
       "      <td>이커머스</td>\n",
       "      <td>Series A</td>\n",
       "      <td>4126.0</td>\n",
       "      <td>No</td>\n",
       "      <td>No</td>\n",
       "      <td>56.0</td>\n",
       "      <td>3365.0</td>\n",
       "      <td>4764.0</td>\n",
       "      <td>4.71</td>\n",
       "      <td>NaN</td>\n",
       "      <td>0.3</td>\n",
       "    </tr>\n",
       "    <tr>\n",
       "      <th>1</th>\n",
       "      <td>TRAIN_0001</td>\n",
       "      <td>2023</td>\n",
       "      <td>CT006</td>\n",
       "      <td>핀테크</td>\n",
       "      <td>Seed</td>\n",
       "      <td>4167.0</td>\n",
       "      <td>Yes</td>\n",
       "      <td>No</td>\n",
       "      <td>80.0</td>\n",
       "      <td>4069.0</td>\n",
       "      <td>279.0</td>\n",
       "      <td>1.00</td>\n",
       "      <td>2500-3500</td>\n",
       "      <td>0.8</td>\n",
       "    </tr>\n",
       "    <tr>\n",
       "      <th>2</th>\n",
       "      <td>TRAIN_0002</td>\n",
       "      <td>2018</td>\n",
       "      <td>CT007</td>\n",
       "      <td>기술</td>\n",
       "      <td>Series A</td>\n",
       "      <td>3132.0</td>\n",
       "      <td>Yes</td>\n",
       "      <td>Yes</td>\n",
       "      <td>54.0</td>\n",
       "      <td>6453.0</td>\n",
       "      <td>12141.0</td>\n",
       "      <td>4.00</td>\n",
       "      <td>3500-4500</td>\n",
       "      <td>0.5</td>\n",
       "    </tr>\n",
       "    <tr>\n",
       "      <th>3</th>\n",
       "      <td>TRAIN_0003</td>\n",
       "      <td>2016</td>\n",
       "      <td>CT006</td>\n",
       "      <td>NaN</td>\n",
       "      <td>Seed</td>\n",
       "      <td>3245.0</td>\n",
       "      <td>Yes</td>\n",
       "      <td>Yes</td>\n",
       "      <td>NaN</td>\n",
       "      <td>665.0</td>\n",
       "      <td>10547.0</td>\n",
       "      <td>2.97</td>\n",
       "      <td>NaN</td>\n",
       "      <td>0.7</td>\n",
       "    </tr>\n",
       "    <tr>\n",
       "      <th>4</th>\n",
       "      <td>TRAIN_0004</td>\n",
       "      <td>2020</td>\n",
       "      <td>CT002</td>\n",
       "      <td>에듀테크</td>\n",
       "      <td>Seed</td>\n",
       "      <td>1969.0</td>\n",
       "      <td>No</td>\n",
       "      <td>Yes</td>\n",
       "      <td>94.0</td>\n",
       "      <td>829.0</td>\n",
       "      <td>9810.0</td>\n",
       "      <td>1.00</td>\n",
       "      <td>1500-2500</td>\n",
       "      <td>0.1</td>\n",
       "    </tr>\n",
       "  </tbody>\n",
       "</table>\n",
       "</div>"
      ],
      "text/plain": [
       "           ID  설립연도     국가    분야      투자단계    직원 수 인수여부 상장여부  고객수(백만명)  \\\n",
       "0  TRAIN_0000  2009  CT005  이커머스  Series A  4126.0   No   No      56.0   \n",
       "1  TRAIN_0001  2023  CT006   핀테크      Seed  4167.0  Yes   No      80.0   \n",
       "2  TRAIN_0002  2018  CT007    기술  Series A  3132.0  Yes  Yes      54.0   \n",
       "3  TRAIN_0003  2016  CT006   NaN      Seed  3245.0  Yes  Yes       NaN   \n",
       "4  TRAIN_0004  2020  CT002  에듀테크      Seed  1969.0   No  Yes      94.0   \n",
       "\n",
       "   총 투자금(억원)  연매출(억원)  SNS 팔로워 수(백만명)  기업가치(백억원)  성공확률  \n",
       "0     3365.0   4764.0            4.71        NaN   0.3  \n",
       "1     4069.0    279.0            1.00  2500-3500   0.8  \n",
       "2     6453.0  12141.0            4.00  3500-4500   0.5  \n",
       "3      665.0  10547.0            2.97        NaN   0.7  \n",
       "4      829.0   9810.0            1.00  1500-2500   0.1  "
      ]
     },
     "execution_count": 19,
     "metadata": {},
     "output_type": "execute_result"
    }
   ],
   "source": [
    "train.head()"
   ]
  },
  {
   "cell_type": "code",
   "execution_count": 20,
   "metadata": {},
   "outputs": [
    {
     "data": {
      "text/plain": [
       "ID                   0\n",
       "설립연도                 0\n",
       "국가                   0\n",
       "분야                 857\n",
       "투자단계                 0\n",
       "직원 수               174\n",
       "인수여부                 0\n",
       "상장여부                 0\n",
       "고객수(백만명)          1320\n",
       "총 투자금(억원)            0\n",
       "연매출(억원)              0\n",
       "SNS 팔로워 수(백만명)       0\n",
       "기업가치(백억원)         1220\n",
       "성공확률                 0\n",
       "dtype: int64"
      ]
     },
     "execution_count": 20,
     "metadata": {},
     "output_type": "execute_result"
    }
   ],
   "source": [
    "train.isnull().sum()"
   ]
  },
  {
   "cell_type": "code",
   "execution_count": 21,
   "metadata": {},
   "outputs": [],
   "source": [
    "except_cols = [\"ID\", \"성공확률\"]\n",
    "X_train = train.drop(columns=except_cols)\n",
    "X_test = test.drop(columns = \"ID\")\n",
    "y_train = train[\"성공확률\"]"
   ]
  },
  {
   "cell_type": "code",
   "execution_count": 22,
   "metadata": {},
   "outputs": [],
   "source": [
    "cat_cols = X_train.select_dtypes(include=\"object\").columns.tolist()"
   ]
  },
  {
   "cell_type": "code",
   "execution_count": 23,
   "metadata": {},
   "outputs": [
    {
     "data": {
      "text/plain": [
       "['국가', '분야', '투자단계', '인수여부', '상장여부', '기업가치(백억원)']"
      ]
     },
     "execution_count": 23,
     "metadata": {},
     "output_type": "execute_result"
    }
   ],
   "source": [
    "cat_cols"
   ]
  },
  {
   "cell_type": "code",
   "execution_count": 24,
   "metadata": {},
   "outputs": [],
   "source": [
    "X_train = pd.get_dummies(X_train, columns=cat_cols)\n",
    "X_test = pd.get_dummies(X_test, columns=cat_cols)"
   ]
  },
  {
   "cell_type": "code",
   "execution_count": 25,
   "metadata": {},
   "outputs": [
    {
     "data": {
      "text/plain": [
       "설립연도                      0\n",
       "직원 수                    174\n",
       "고객수(백만명)               1320\n",
       "총 투자금(억원)                 0\n",
       "연매출(억원)                   0\n",
       "SNS 팔로워 수(백만명)            0\n",
       "국가_CT001                  0\n",
       "국가_CT002                  0\n",
       "국가_CT003                  0\n",
       "국가_CT004                  0\n",
       "국가_CT005                  0\n",
       "국가_CT006                  0\n",
       "국가_CT007                  0\n",
       "국가_CT008                  0\n",
       "국가_CT009                  0\n",
       "국가_CT010                  0\n",
       "분야_AI                     0\n",
       "분야_게임                     0\n",
       "분야_기술                     0\n",
       "분야_물류                     0\n",
       "분야_에너지                    0\n",
       "분야_에듀테크                   0\n",
       "분야_이커머스                   0\n",
       "분야_푸드테크                   0\n",
       "분야_핀테크                    0\n",
       "분야_헬스케어                   0\n",
       "투자단계_IPO                  0\n",
       "투자단계_Seed                 0\n",
       "투자단계_Series A             0\n",
       "투자단계_Series B             0\n",
       "투자단계_Series C             0\n",
       "인수여부_No                   0\n",
       "인수여부_Yes                  0\n",
       "상장여부_No                   0\n",
       "상장여부_Yes                  0\n",
       "기업가치(백억원)_1500-2500       0\n",
       "기업가치(백억원)_2500-3500       0\n",
       "기업가치(백억원)_3500-4500       0\n",
       "기업가치(백억원)_4500-6000       0\n",
       "기업가치(백억원)_6000이상          0\n",
       "dtype: int64"
      ]
     },
     "execution_count": 25,
     "metadata": {},
     "output_type": "execute_result"
    }
   ],
   "source": [
    "X_train.isnull().sum()"
   ]
  },
  {
   "cell_type": "code",
   "execution_count": 26,
   "metadata": {},
   "outputs": [],
   "source": [
    "X_train['직원 수'] = X_train['직원 수'].fillna(X_train['직원 수'].mean())\n",
    "X_train['고객수(백만명)'] = X_train['고객수(백만명)'].fillna(X_train['고객수(백만명)'].mean())\n",
    "\n",
    "X_test['직원 수'] = X_test['직원 수'].fillna(X_test['직원 수'].mean())\n",
    "X_test['고객수(백만명)'] = X_test['고객수(백만명)'].fillna(X_test['고객수(백만명)'].mean())"
   ]
  },
  {
   "cell_type": "code",
   "execution_count": 27,
   "metadata": {},
   "outputs": [],
   "source": [
    "train['설립연도'] =train['설립연도'].astype('object')\n",
    "test['설립연도'] =test['설립연도'].astype('object')"
   ]
  },
  {
   "cell_type": "code",
   "execution_count": 28,
   "metadata": {},
   "outputs": [],
   "source": [
    "from sklearn.ensemble import RandomForestRegressor"
   ]
  },
  {
   "cell_type": "code",
   "execution_count": 30,
   "metadata": {},
   "outputs": [
    {
     "data": {
      "image/png": "[encoded data removed]",
      "text/plain": [
       "<Figure size 640x480 with 1 Axes>"
      ]
     },
     "metadata": {},
     "output_type": "display_data"
    }
   ],
   "source": [
    "import os\n",
    "import matplotlib.pyplot as plt\n",
    "# 윈도우 기본 한글 폰트 설정 (예: 'Malgun Gothic')\n",
    "plt.rcParams['font.family'] = 'Malgun Gothic' \n",
    "\n",
    "model = RandomForestRegressor(n_estimators=300, random_state=42)\n",
    "model.fit(X_train, y_train)\n",
    "\n",
    "feat_importances = pd.Series(model.feature_importances_, index=X_train.columns)\n",
    "top_feats = feat_importances.nlargest(30).index.tolist()\n",
    "\n",
    "# 시각화 (선택사항)\n",
    "feat_importances.nlargest(20).plot(kind='barh', title='Top 20 Important Features')\n",
    "plt.show()"
   ]
  },
  {
   "cell_type": "code",
   "execution_count": 32,
   "metadata": {},
   "outputs": [],
   "source": [
    "import numpy as np\n",
    "\n",
    "X_train_selected = X_train[top_feats]\n",
    "X_test_selected = X_test[top_feats]\n",
    "\n",
    "model = RandomForestRegressor(n_estimators=500, max_depth=10, random_state=42)\n",
    "model.fit(X_train_selected, y_train)\n",
    "y_pred = model.predict(X_test_selected)\n",
    "\n",
    "submission = pd.DataFrame({\n",
    "    \"ID\": test[\"ID\"],\n",
    "    \"성공확률\": y_pred\n",
    "})\n",
    "submission.to_csv(\"submission_RF_top_2.csv\", index=False)"
   ]
  },
  {
   "cell_type": "code",
   "execution_count": 13,
   "metadata": {},
   "outputs": [],
   "source": [
    "model = RandomForestRegressor(\n",
    "        n_estimators=1000,\n",
    "        max_depth=12,\n",
    "        min_samples_split=4,\n",
    "        min_samples_leaf=2,\n",
    "        max_features='sqrt',\n",
    "        random_state=42\n",
    "    )\n",
    "model.fit(X_train, y_train)\n",
    "y_pred = model.predict(X_test)"
   ]
  },
  {
   "cell_type": "code",
   "execution_count": 14,
   "metadata": {},
   "outputs": [],
   "source": [
    "submission = pd.DataFrame({\n",
    "    'ID': test['ID'],             # test 데이터에 있는 ID 컬럼\n",
    "    '성공확률': y_pred\n",
    "})"
   ]
  },
  {
   "cell_type": "code",
   "execution_count": null,
   "metadata": {},
   "outputs": [],
   "source": [
    "submission.to_csv(\"submission_RandomForest4.csv\",index=False)"
   ]
  }
 ],
 "metadata": {
  "kernelspec": {
   "display_name": "Python 3",
   "language": "python",
   "name": "python3"
  },
  "language_info": {
   "codemirror_mode": {
    "name": "ipython",
    "version": 3
   },
   "file_extension": ".py",
   "mimetype": "text/x-python",
   "name": "python",
   "nbconvert_exporter": "python",
   "pygments_lexer": "ipython3",
   "version": "3.11.11"
  }
 },
 "nbformat": 4,
 "nbformat_minor": 2
}
