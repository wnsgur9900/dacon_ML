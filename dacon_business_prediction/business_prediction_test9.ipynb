{
 "cells": [
  {
   "cell_type": "code",
   "execution_count": 29,
   "metadata": {},
   "outputs": [],
   "source": [
    "import pandas as pd\n",
    "import numpy as np\n",
    "from sklearn.preprocessing import LabelEncoder\n",
    "from xgboost import XGBRegressor\n",
    "import matplotlib.pyplot as plt"
   ]
  },
  {
   "cell_type": "code",
   "execution_count": 30,
   "metadata": {},
   "outputs": [],
   "source": [
    "# ------------------- 데이터 로드 ------------------- #\n",
    "train = pd.read_csv(\"data-files/train.csv\")\n",
    "test = pd.read_csv(\"data-files/test.csv\")\n",
    "submission = pd.read_csv(\"data-files/sample_submission.csv\")\n",
    "\n",
    "y_train = train[\"성공확률\"]\n",
    "X_train = train.drop(columns=[\"ID\", \"성공확률\"])\n",
    "X_test = test.drop(columns=[\"ID\"])"
   ]
  },
  {
   "cell_type": "code",
   "execution_count": 31,
   "metadata": {},
   "outputs": [],
   "source": [
    "# ------------------- 기업나이 및 범위형 수치 변환 ------------------- #\n",
    "X_train[\"기업나이\"] = 2025 - X_train[\"설립연도\"]\n",
    "X_test[\"기업나이\"] = 2025 - X_test[\"설립연도\"]\n",
    "X_train.drop(columns=[\"설립연도\"], inplace=True)\n",
    "X_test.drop(columns=[\"설립연도\"], inplace=True)\n",
    "\n",
    "def parse_value_range(x):\n",
    "    if pd.isnull(x):\n",
    "        return np.nan\n",
    "    if '-' in str(x):\n",
    "        try:\n",
    "            parts = x.split('-')\n",
    "            return (float(parts[0]) + float(parts[1])) / 2\n",
    "        except:\n",
    "            return np.nan\n",
    "    try:\n",
    "        return float(x)\n",
    "    except:\n",
    "        return np.nan\n",
    "\n",
    "X_train[\"기업가치(백억원)\"] = train[\"기업가치(백억원)\"].apply(parse_value_range)\n",
    "X_test[\"기업가치(백억원)\"] = test[\"기업가치(백억원)\"].apply(parse_value_range)"
   ]
  },
  {
   "cell_type": "code",
   "execution_count": 32,
   "metadata": {},
   "outputs": [],
   "source": [
    "# ------------------- 결측값 처리 ------------------- #\n",
    "for col in ['직원 수', '고객수(백만명)', '기업가치(백억원)']:\n",
    "    X_train[col] = X_train[col].fillna(X_train[col].mean())\n",
    "    X_test[col] = X_test[col].fillna(X_test[col].mean())"
   ]
  },
  {
   "cell_type": "code",
   "execution_count": 33,
   "metadata": {},
   "outputs": [],
   "source": [
    "# ------------------- 범주형 인코딩 ------------------- #\n",
    "cat_cols = X_train.select_dtypes(include=\"object\").columns\n",
    "for col in cat_cols:\n",
    "    le = LabelEncoder()\n",
    "    X_train[col] = le.fit_transform(X_train[col].astype(str))\n",
    "    X_test[col] = le.transform(X_test[col].astype(str))"
   ]
  },
  {
   "cell_type": "code",
   "execution_count": 34,
   "metadata": {},
   "outputs": [],
   "source": [
    "# ------------------- 파생 변수 생성 ------------------- #\n",
    "X_train['매출_투자비'] = X_train['연매출(억원)'] / (X_train['총 투자금(억원)'] + 1)\n",
    "X_test['매출_투자비'] = X_test['연매출(억원)'] / (X_test['총 투자금(억원)'] + 1)\n",
    "\n",
    "X_train['고객당매출'] = X_train['연매출(억원)'] / (X_train['고객수(백만명)'] + 1)\n",
    "X_test['고객당매출'] = X_test['연매출(억원)'] / (X_test['고객수(백만명)'] + 1)\n",
    "\n",
    "X_train['SNS_비율'] = X_train['SNS 팔로워 수(백만명)'] / (X_train['고객수(백만명)'] + 1)\n",
    "X_test['SNS_비율'] = X_test['SNS 팔로워 수(백만명)'] / (X_test['고객수(백만명)'] + 1)\n",
    "\n",
    "X_train[\"직원당_매출\"] = X_train[\"연매출(억원)\"] / (X_train[\"직원 수\"] + 1)\n",
    "X_test[\"직원당_매출\"] = X_test[\"연매출(억원)\"] / (X_test[\"직원 수\"] + 1)\n",
    "\n",
    "X_train[\"투자_가치비\"] = X_train[\"총 투자금(억원)\"] / (X_train[\"기업가치(백억원)\"] + 1)\n",
    "X_test[\"투자_가치비\"] = X_test[\"총 투자금(억원)\"] / (X_test[\"기업가치(백억원)\"] + 1)"
   ]
  },
  {
   "cell_type": "code",
   "execution_count": 35,
   "metadata": {},
   "outputs": [],
   "source": [
    "# align\n",
    "X_train, X_test = X_train.align(X_test, join='left', axis=1, fill_value=0)\n",
    "\n",
    "# ------------------- 1차 학습으로 피처 중요도 확인 ------------------- #\n",
    "xgb_temp = XGBRegressor(n_estimators=300, random_state=42, verbosity=0)\n",
    "xgb_temp.fit(X_train, y_train)\n",
    "\n",
    "imp_df = pd.DataFrame({\n",
    "    \"feature\": X_train.columns,\n",
    "    \"importance\": xgb_temp.feature_importances_\n",
    "}).sort_values(by=\"importance\", ascending=False)\n",
    "\n",
    "top_features = imp_df[imp_df[\"importance\"] > 0][\"feature\"].tolist()\n",
    "X_train_sel = X_train[top_features]\n",
    "X_test_sel = X_test[top_features]"
   ]
  },
  {
   "cell_type": "code",
   "execution_count": 36,
   "metadata": {},
   "outputs": [],
   "source": [
    "# ------------------- 최종 모델 학습 ------------------- #\n",
    "# xgb = XGBRegressor(\n",
    "#     n_estimators=3000,\n",
    "#     learning_rate=0.008,\n",
    "#     max_depth=7,\n",
    "#     min_child_weight=4,\n",
    "#     subsample=0.85,\n",
    "#     colsample_bytree=0.85,\n",
    "#     gamma=1,\n",
    "#     reg_alpha=1,\n",
    "#     reg_lambda=1,\n",
    "#     random_state=42,\n",
    "#     n_jobs=-1,\n",
    "#     verbosity=1\n",
    "# )\n",
    "\n",
    "# xgb.fit(X_train_sel, y_train)\n",
    "# xgb_pred = xgb.predict(X_test_sel)\n",
    "\n",
    "# 모델 학습\n",
    "xgb = XGBRegressor(\n",
    "    n_estimators=1000,\n",
    "    learning_rate=0.01,\n",
    "    max_depth=7,\n",
    "    subsample=0.9,\n",
    "    colsample_bytree=0.9,\n",
    "    random_state=42,\n",
    "    n_jobs=-1,\n",
    "    verbosity=1\n",
    ")\n",
    "\n",
    "xgb.fit(X_train, y_train)\n",
    "xgb_pred = xgb.predict(X_test)\n",
    "xgb_pred = np.clip(xgb_pred, 0, 1)"
   ]
  },
  {
   "cell_type": "code",
   "execution_count": 38,
   "metadata": {},
   "outputs": [
    {
     "data": {
      "text/plain": [
       "array([0.5273898 , 0.50691444, 0.43532315, ..., 0.5493971 , 0.49042583,\n",
       "       0.57573366], shape=(1755,), dtype=float32)"
      ]
     },
     "execution_count": 38,
     "metadata": {},
     "output_type": "execute_result"
    }
   ],
   "source": [
    "xgb_pred"
   ]
  },
  {
   "cell_type": "code",
   "execution_count": 37,
   "metadata": {},
   "outputs": [],
   "source": [
    "# ------------------- 제출 ------------------- #\n",
    "submission[\"성공확률\"] = xgb_pred\n",
    "submission.to_csv(\"submission_xgb_top_final.csv\", index=False)"
   ]
  },
  {
   "cell_type": "code",
   "execution_count": null,
   "metadata": {},
   "outputs": [],
   "source": []
  }
 ],
 "metadata": {
  "kernelspec": {
   "display_name": "Python 3",
   "language": "python",
   "name": "python3"
  },
  "language_info": {
   "codemirror_mode": {
    "name": "ipython",
    "version": 3
   },
   "file_extension": ".py",
   "mimetype": "text/x-python",
   "name": "python",
   "nbconvert_exporter": "python",
   "pygments_lexer": "ipython3",
   "version": "3.11.11"
  }
 },
 "nbformat": 4,
 "nbformat_minor": 2
}
