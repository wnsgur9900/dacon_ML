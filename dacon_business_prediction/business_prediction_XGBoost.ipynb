{
 "cells": [
  {
   "cell_type": "code",
   "execution_count": 20,
   "metadata": {},
   "outputs": [],
   "source": [
    "import pandas as pd\n",
    "from xgboost import XGBRegressor\n",
    "from sklearn.metrics import mean_absolute_error\n",
    "from sklearn.model_selection import train_test_split"
   ]
  },
  {
   "cell_type": "code",
   "execution_count": 21,
   "metadata": {},
   "outputs": [],
   "source": [
    "train = pd.read_csv(\"data-files/train.csv\")\n",
    "test = pd.read_csv(\"data-files/test.csv\")\n",
    "submission = pd.read_csv(\"data-files/sample_submission.csv\")"
   ]
  },
  {
   "cell_type": "code",
   "execution_count": 22,
   "metadata": {},
   "outputs": [],
   "source": [
    "except_cols = [\"ID\", \"성공확률\"]\n",
    "X_train = train.drop(columns=except_cols)\n",
    "y_train = train[\"성공확률\"]\n",
    "\n",
    "cat_cols = X_train.select_dtypes(include=\"object\").columns.tolist()\n",
    "X_train = pd.get_dummies(X_train, columns=cat_cols)\n",
    "X_test = test.drop(columns=\"ID\")\n",
    "X_test = pd.get_dummies(X_test, columns=cat_cols)\n",
    "\n",
    "X_train, X_test = X_train.align(X_test, join='left', axis=1, fill_value=0)"
   ]
  },
  {
   "cell_type": "code",
   "execution_count": 23,
   "metadata": {},
   "outputs": [],
   "source": [
    "X_train['직원 수'] = X_train['직원 수'].fillna(X_train['직원 수'].median())\n",
    "X_train['고객수(백만명)'] = X_train['고객수(백만명)'].fillna(X_train['고객수(백만명)'].median())\n",
    "\n",
    "X_test['직원 수'] = X_test['직원 수'].fillna(X_test['직원 수'].median())\n",
    "X_test['고객수(백만명)'] = X_test['고객수(백만명)'].fillna(X_test['고객수(백만명)'].median())"
   ]
  },
  {
   "cell_type": "code",
   "execution_count": 24,
   "metadata": {},
   "outputs": [],
   "source": [
    "# XGBoost 모델 생성\n",
    "xgb_model = XGBRegressor(\n",
    "    n_estimators=300,    # 트리 개수\n",
    "    max_depth=6,         # 트리 깊이\n",
    "    learning_rate=0.1,   # 학습률\n",
    "    random_state=42,\n",
    "    n_jobs=-1            # CPU 모두 사용\n",
    ")"
   ]
  },
  {
   "cell_type": "code",
   "execution_count": 25,
   "metadata": {},
   "outputs": [],
   "source": [
    "xgb_model.fit(X_train, y_train)\n",
    "y_pred = xgb_model.predict(X_test)"
   ]
  },
  {
   "cell_type": "code",
   "execution_count": 26,
   "metadata": {},
   "outputs": [],
   "source": [
    "import numpy as np\n",
    "\n",
    "y_pred = np.round(y_pred, 3)"
   ]
  },
  {
   "cell_type": "code",
   "execution_count": 27,
   "metadata": {},
   "outputs": [],
   "source": [
    "submission = pd.DataFrame({\n",
    "    'ID': test['ID'],\n",
    "    '성공확률': y_pred\n",
    "})"
   ]
  },
  {
   "cell_type": "code",
   "execution_count": 29,
   "metadata": {},
   "outputs": [],
   "source": [
    "submission.to_csv('submission_XG.csv', index=False)"
   ]
  },
  {
   "cell_type": "code",
   "execution_count": null,
   "metadata": {},
   "outputs": [],
   "source": [
    "# -----------------------------------------------------------\n",
    "# MAE 측정"
   ]
  },
  {
   "cell_type": "code",
   "execution_count": null,
   "metadata": {},
   "outputs": [],
   "source": [
    "from sklearn.model_selection import train_test_split\n",
    "\n",
    "# 학습 데이터/검증 데이터 나누기\n",
    "X_train_sub, X_val, y_train_sub, y_val = train_test_split(\n",
    "    X_train, y_train, test_size=0.2, random_state=42\n",
    ")"
   ]
  },
  {
   "cell_type": "code",
   "execution_count": null,
   "metadata": {},
   "outputs": [],
   "source": [
    "# XGBoost 모델 생성\n",
    "xgb_model2 = XGBRegressor(\n",
    "    n_estimators=300,    # 트리 개수\n",
    "    max_depth=6,         # 트리 깊이\n",
    "    learning_rate=0.1,   # 학습률\n",
    "    random_state=42,\n",
    "    n_jobs=-1            # CPU 모두 사용\n",
    ")"
   ]
  },
  {
   "cell_type": "code",
   "execution_count": null,
   "metadata": {},
   "outputs": [
    {
     "name": "stdout",
     "output_type": "stream",
     "text": [
      "✅ XGBoost 검증 MAE: 0.2102\n"
     ]
    }
   ],
   "source": [
    "# 학습\n",
    "xgb_model2.fit(X_train_sub, y_train_sub)\n",
    "\n",
    "# 예측\n",
    "y_val_pred_xgb = xgb_model.predict(X_val)\n",
    "\n",
    "# 평가\n",
    "mae_xgb = mean_absolute_error(y_val, y_val_pred_xgb)\n",
    "print(f\"✅ XGBoost 검증 MAE: {mae_xgb:.4f}\")"
   ]
  },
  {
   "cell_type": "code",
   "execution_count": 18,
   "metadata": {},
   "outputs": [],
   "source": [
    "import numpy as np\n",
    "\n",
    "# 1. X_test로 최종 예측\n",
    "y_pred_test = xgb_model.predict(X_test)\n",
    "\n",
    "# 2. 예측 결과 소수점 3자리로 반올림\n",
    "y_pred_test = np.round(y_pred_test, 3)\n",
    "\n",
    "# 3. 제출 파일 만들기\n",
    "submission = pd.DataFrame({\n",
    "    'ID': test['ID'],          # 원본 test 파일에서 ID 가져오기\n",
    "    '성공확률': y_pred_test     # 예측한 성공확률\n",
    "})\n",
    "\n",
    "# 4. 저장\n",
    "submission.to_csv('submission_XG.csv', index=False)"
   ]
  }
 ],
 "metadata": {
  "kernelspec": {
   "display_name": "Python 3",
   "language": "python",
   "name": "python3"
  },
  "language_info": {
   "codemirror_mode": {
    "name": "ipython",
    "version": 3
   },
   "file_extension": ".py",
   "mimetype": "text/x-python",
   "name": "python",
   "nbconvert_exporter": "python",
   "pygments_lexer": "ipython3",
   "version": "3.11.11"
  }
 },
 "nbformat": 4,
 "nbformat_minor": 2
}
